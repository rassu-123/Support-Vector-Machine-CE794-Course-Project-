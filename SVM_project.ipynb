{
  "nbformat": 4,
  "nbformat_minor": 0,
  "metadata": {
    "colab": {
      "name": "SVM_project.ipynb",
      "provenance": [],
      "collapsed_sections": [],
      "include_colab_link": true
    },
    "kernelspec": {
      "name": "python3",
      "display_name": "Python 3"
    },
    "language_info": {
      "name": "python"
    }
  },
  "cells": [
    {
      "cell_type": "markdown",
      "metadata": {
        "id": "view-in-github",
        "colab_type": "text"
      },
      "source": [
        "<a href=\"https://colab.research.google.com/github/jithemji/Support-Vector-Machine-CE794-Course-Project-/blob/main/SVM_project.ipynb\" target=\"_parent\"><img src=\"https://colab.research.google.com/assets/colab-badge.svg\" alt=\"Open In Colab\"/></a>"
      ]
    },
    {
      "cell_type": "code",
      "execution_count": null,
      "metadata": {
        "colab": {
          "base_uri": "https://localhost:8080/"
        },
        "id": "ETLa4osr0Nmy",
        "outputId": "e6f2d979-27a7-4965-d050-5157fca352f1"
      },
      "outputs": [
        {
          "output_type": "stream",
          "name": "stdout",
          "text": [
            "Mounted at /content/drive\n"
          ]
        }
      ],
      "source": [
        "from google.colab import drive\n",
        "drive.mount('/content/drive')"
      ]
    },
    {
      "cell_type": "code",
      "source": [
        "import pandas as pd\n",
        "  \n",
        "# read an excel file and convert \n",
        "# into a dataframe object\n",
        "df = pd.DataFrame(pd.read_excel(\"/content/drive/MyDrive/Dataset_SVM.xlsx\"))\n",
        "  \n",
        "# show the dataframe\n",
        "df"
      ],
      "metadata": {
        "colab": {
          "base_uri": "https://localhost:8080/",
          "height": 1000
        },
        "id": "5-YoGy4R5QvY",
        "outputId": "e7f2c2c4-7993-4bc1-c6fd-63f1a0c76614"
      },
      "execution_count": null,
      "outputs": [
        {
          "output_type": "execute_result",
          "data": {
            "text/plain": [
              "      Roll Number                     Name  Roll Number.1 Primary Program  \\\n",
              "0         14152.0                     Atul        14152.0              BT   \n",
              "1         14557.0             RISHI RANJAN        14557.0              BT   \n",
              "2         14817.0              Vivek Kumar        14817.0              BT   \n",
              "3        150082.0    Alajangi Rohan Satvik       150082.0              BT   \n",
              "4        150113.0      Anshul Vijayvergiya       150113.0              BT   \n",
              "...           ...                      ...            ...             ...   \n",
              "1465   20128406.0          Rishabh Sachdev     20128406.0             MSR   \n",
              "1466  199201401.0  APPIKONDA GOWRI MANOHAR    199201401.0             MSR   \n",
              "1467  201160007.0                    Niket    201160007.0              MT   \n",
              "1468  201169016.0        Rahul Waman Bhure    201169016.0            Mdes   \n",
              "1469          NaN                      NaN            NaN             NaN   \n",
              "\n",
              "     Primary Department Secondary Department Gender  CPI  \\\n",
              "0                   CHE                  NaN   Male  3.6   \n",
              "1                   MSE                  NaN   Male  5.3   \n",
              "2                   CHE                  NaN   Male  6.1   \n",
              "3                   CSE                  NaN   Male  6.0   \n",
              "4                    EE                  NaN   Male  8.4   \n",
              "...                 ...                  ...    ...  ...   \n",
              "1465                CGS                  NaN   Male  9.2   \n",
              "1466                 AE                  NaN   Male  8.5   \n",
              "1467                PSE                  NaN   Male  8.0   \n",
              "1468                DES                  NaN   Male  9.0   \n",
              "1469                NaN                  NaN    NaN  NaN   \n",
              "\n",
              "                      Email               Class X Board  ...  Friend's Number  \\\n",
              "0          atuld@iitk.ac.in                        2011  ...     7.755048e+09   \n",
              "1          rishi@iitk.ac.in                     C.B.S.E  ...     8.858716e+09   \n",
              "2       vivekkum@iitk.ac.in                  CBSE Delhi  ...     7.318023e+09   \n",
              "3       arsatvik@iitk.ac.in  Andhra Pradesh State Board  ...     9.151638e+09   \n",
              "4        anshulv@iitk.ac.in                        CBSE  ...     8.600141e+09   \n",
              "...                     ...                         ...  ...              ...   \n",
              "1465  srishabh20@iitk.ac.in                        CBSE  ...     8.299837e+09   \n",
              "1466       appik@iitk.ac.in                         SSC  ...     9.705741e+09   \n",
              "1467     niket20@iitk.ac.in                        CBSE  ...     7.004772e+09   \n",
              "1468       rwb20@iitk.ac.in     Maharashtra state board  ...     6.307538e+09   \n",
              "1469                    NaN                         NaN  ...              NaN   \n",
              "\n",
              "      Application Count DateOfBirth                      Specilisation  \\\n",
              "0                  28.0     34782.0                                NaN   \n",
              "1                  39.0     34978.0                                NaN   \n",
              "2                  35.0     34472.0                                NaN   \n",
              "3                  31.0     35815.0                                NaN   \n",
              "4                   9.0     35539.0                                NaN   \n",
              "...                 ...         ...                                ...   \n",
              "1465               35.0     35487.0                                NaN   \n",
              "1466               29.0     34814.0                                NaN   \n",
              "1467               54.0     35785.0  Photonics Science and Engineering   \n",
              "1468                2.0     35235.0                       UX\\UI Design   \n",
              "1469                NaN         NaN                                NaN   \n",
              "\n",
              "                             Local Address                 External Email  \\\n",
              "0                             G108, HaII-5          dohareyatul@gmail.com   \n",
              "1                                      NaN  rishiranjan6oct1995@gmail.com   \n",
              "2     F310 Hall 12 \\nIIT Kanpur-208016, UP       vivekkumariitk@gmail.com   \n",
              "3                      Room No F411,Hall12        rohansatvik98@gmail.com   \n",
              "4                             A107, Hall12       vijayvergiyaa7@gmail.com   \n",
              "...                                    ...                            ...   \n",
              "1465                                   NaN          rishabh26@outlook.com   \n",
              "1466  C-219 HALL OF RESIDENCE 9 IIT KANPUR    Manohar.appikonda@gmail.com   \n",
              "1467                                   NaN      niket.hyperloop@gmail.com   \n",
              "1468                           Not Alloted             rwbhure3@gmail.com   \n",
              "1469                                   NaN                            NaN   \n",
              "\n",
              "      Disability                                  Permanent Address  \\\n",
              "0            0.0  House No 10, Duplex, Akshardham Colony, Modipu...   \n",
              "1            0.0         S-8/264, Sudhakar road, khajuri , Varanasi   \n",
              "2            1.0  Village Narkhi Dhonkal, Post Narkhi \\nDistrict...   \n",
              "3            0.0     #2-10-15, Mindi, Visakhapatnam, Andhra Pradesh   \n",
              "4            0.0                                                NIL   \n",
              "...          ...                                                ...   \n",
              "1465         0.0  67, Vishwakarna Nagar 2, Maharani Farm, Durgap...   \n",
              "1466         0.0  Flat 204 sai harshitha enclave pragati nagar h...   \n",
              "1467         0.0  Road No. 6A, Adarsh Colony, West Patel Nagar, ...   \n",
              "1468         0.0       32 Shree Krishna Nagar Nagpur-09 Maharashtra   \n",
              "1469         NaN                                                NaN   \n",
              "\n",
              "     Unnamed: 27  Result  \n",
              "0            NaN      NO  \n",
              "1            NaN     YES  \n",
              "2            NaN     YES  \n",
              "3            NaN     YES  \n",
              "4            NaN      NO  \n",
              "...          ...     ...  \n",
              "1465         NaN     YES  \n",
              "1466         NaN     YES  \n",
              "1467         NaN     YES  \n",
              "1468         NaN      NO  \n",
              "1469         NaN    1111  \n",
              "\n",
              "[1470 rows x 29 columns]"
            ],
            "text/html": [
              "\n",
              "  <div id=\"df-3834fb97-2d05-46f9-a194-35545c9838c2\">\n",
              "    <div class=\"colab-df-container\">\n",
              "      <div>\n",
              "<style scoped>\n",
              "    .dataframe tbody tr th:only-of-type {\n",
              "        vertical-align: middle;\n",
              "    }\n",
              "\n",
              "    .dataframe tbody tr th {\n",
              "        vertical-align: top;\n",
              "    }\n",
              "\n",
              "    .dataframe thead th {\n",
              "        text-align: right;\n",
              "    }\n",
              "</style>\n",
              "<table border=\"1\" class=\"dataframe\">\n",
              "  <thead>\n",
              "    <tr style=\"text-align: right;\">\n",
              "      <th></th>\n",
              "      <th>Roll Number</th>\n",
              "      <th>Name</th>\n",
              "      <th>Roll Number.1</th>\n",
              "      <th>Primary Program</th>\n",
              "      <th>Primary Department</th>\n",
              "      <th>Secondary Department</th>\n",
              "      <th>Gender</th>\n",
              "      <th>CPI</th>\n",
              "      <th>Email</th>\n",
              "      <th>Class X Board</th>\n",
              "      <th>...</th>\n",
              "      <th>Friend's Number</th>\n",
              "      <th>Application Count</th>\n",
              "      <th>DateOfBirth</th>\n",
              "      <th>Specilisation</th>\n",
              "      <th>Local Address</th>\n",
              "      <th>External Email</th>\n",
              "      <th>Disability</th>\n",
              "      <th>Permanent Address</th>\n",
              "      <th>Unnamed: 27</th>\n",
              "      <th>Result</th>\n",
              "    </tr>\n",
              "  </thead>\n",
              "  <tbody>\n",
              "    <tr>\n",
              "      <th>0</th>\n",
              "      <td>14152.0</td>\n",
              "      <td>Atul</td>\n",
              "      <td>14152.0</td>\n",
              "      <td>BT</td>\n",
              "      <td>CHE</td>\n",
              "      <td>NaN</td>\n",
              "      <td>Male</td>\n",
              "      <td>3.6</td>\n",
              "      <td>atuld@iitk.ac.in</td>\n",
              "      <td>2011</td>\n",
              "      <td>...</td>\n",
              "      <td>7.755048e+09</td>\n",
              "      <td>28.0</td>\n",
              "      <td>34782.0</td>\n",
              "      <td>NaN</td>\n",
              "      <td>G108, HaII-5</td>\n",
              "      <td>dohareyatul@gmail.com</td>\n",
              "      <td>0.0</td>\n",
              "      <td>House No 10, Duplex, Akshardham Colony, Modipu...</td>\n",
              "      <td>NaN</td>\n",
              "      <td>NO</td>\n",
              "    </tr>\n",
              "    <tr>\n",
              "      <th>1</th>\n",
              "      <td>14557.0</td>\n",
              "      <td>RISHI RANJAN</td>\n",
              "      <td>14557.0</td>\n",
              "      <td>BT</td>\n",
              "      <td>MSE</td>\n",
              "      <td>NaN</td>\n",
              "      <td>Male</td>\n",
              "      <td>5.3</td>\n",
              "      <td>rishi@iitk.ac.in</td>\n",
              "      <td>C.B.S.E</td>\n",
              "      <td>...</td>\n",
              "      <td>8.858716e+09</td>\n",
              "      <td>39.0</td>\n",
              "      <td>34978.0</td>\n",
              "      <td>NaN</td>\n",
              "      <td>NaN</td>\n",
              "      <td>rishiranjan6oct1995@gmail.com</td>\n",
              "      <td>0.0</td>\n",
              "      <td>S-8/264, Sudhakar road, khajuri , Varanasi</td>\n",
              "      <td>NaN</td>\n",
              "      <td>YES</td>\n",
              "    </tr>\n",
              "    <tr>\n",
              "      <th>2</th>\n",
              "      <td>14817.0</td>\n",
              "      <td>Vivek Kumar</td>\n",
              "      <td>14817.0</td>\n",
              "      <td>BT</td>\n",
              "      <td>CHE</td>\n",
              "      <td>NaN</td>\n",
              "      <td>Male</td>\n",
              "      <td>6.1</td>\n",
              "      <td>vivekkum@iitk.ac.in</td>\n",
              "      <td>CBSE Delhi</td>\n",
              "      <td>...</td>\n",
              "      <td>7.318023e+09</td>\n",
              "      <td>35.0</td>\n",
              "      <td>34472.0</td>\n",
              "      <td>NaN</td>\n",
              "      <td>F310 Hall 12 \\nIIT Kanpur-208016, UP</td>\n",
              "      <td>vivekkumariitk@gmail.com</td>\n",
              "      <td>1.0</td>\n",
              "      <td>Village Narkhi Dhonkal, Post Narkhi \\nDistrict...</td>\n",
              "      <td>NaN</td>\n",
              "      <td>YES</td>\n",
              "    </tr>\n",
              "    <tr>\n",
              "      <th>3</th>\n",
              "      <td>150082.0</td>\n",
              "      <td>Alajangi Rohan Satvik</td>\n",
              "      <td>150082.0</td>\n",
              "      <td>BT</td>\n",
              "      <td>CSE</td>\n",
              "      <td>NaN</td>\n",
              "      <td>Male</td>\n",
              "      <td>6.0</td>\n",
              "      <td>arsatvik@iitk.ac.in</td>\n",
              "      <td>Andhra Pradesh State Board</td>\n",
              "      <td>...</td>\n",
              "      <td>9.151638e+09</td>\n",
              "      <td>31.0</td>\n",
              "      <td>35815.0</td>\n",
              "      <td>NaN</td>\n",
              "      <td>Room No F411,Hall12</td>\n",
              "      <td>rohansatvik98@gmail.com</td>\n",
              "      <td>0.0</td>\n",
              "      <td>#2-10-15, Mindi, Visakhapatnam, Andhra Pradesh</td>\n",
              "      <td>NaN</td>\n",
              "      <td>YES</td>\n",
              "    </tr>\n",
              "    <tr>\n",
              "      <th>4</th>\n",
              "      <td>150113.0</td>\n",
              "      <td>Anshul Vijayvergiya</td>\n",
              "      <td>150113.0</td>\n",
              "      <td>BT</td>\n",
              "      <td>EE</td>\n",
              "      <td>NaN</td>\n",
              "      <td>Male</td>\n",
              "      <td>8.4</td>\n",
              "      <td>anshulv@iitk.ac.in</td>\n",
              "      <td>CBSE</td>\n",
              "      <td>...</td>\n",
              "      <td>8.600141e+09</td>\n",
              "      <td>9.0</td>\n",
              "      <td>35539.0</td>\n",
              "      <td>NaN</td>\n",
              "      <td>A107, Hall12</td>\n",
              "      <td>vijayvergiyaa7@gmail.com</td>\n",
              "      <td>0.0</td>\n",
              "      <td>NIL</td>\n",
              "      <td>NaN</td>\n",
              "      <td>NO</td>\n",
              "    </tr>\n",
              "    <tr>\n",
              "      <th>...</th>\n",
              "      <td>...</td>\n",
              "      <td>...</td>\n",
              "      <td>...</td>\n",
              "      <td>...</td>\n",
              "      <td>...</td>\n",
              "      <td>...</td>\n",
              "      <td>...</td>\n",
              "      <td>...</td>\n",
              "      <td>...</td>\n",
              "      <td>...</td>\n",
              "      <td>...</td>\n",
              "      <td>...</td>\n",
              "      <td>...</td>\n",
              "      <td>...</td>\n",
              "      <td>...</td>\n",
              "      <td>...</td>\n",
              "      <td>...</td>\n",
              "      <td>...</td>\n",
              "      <td>...</td>\n",
              "      <td>...</td>\n",
              "      <td>...</td>\n",
              "    </tr>\n",
              "    <tr>\n",
              "      <th>1465</th>\n",
              "      <td>20128406.0</td>\n",
              "      <td>Rishabh Sachdev</td>\n",
              "      <td>20128406.0</td>\n",
              "      <td>MSR</td>\n",
              "      <td>CGS</td>\n",
              "      <td>NaN</td>\n",
              "      <td>Male</td>\n",
              "      <td>9.2</td>\n",
              "      <td>srishabh20@iitk.ac.in</td>\n",
              "      <td>CBSE</td>\n",
              "      <td>...</td>\n",
              "      <td>8.299837e+09</td>\n",
              "      <td>35.0</td>\n",
              "      <td>35487.0</td>\n",
              "      <td>NaN</td>\n",
              "      <td>NaN</td>\n",
              "      <td>rishabh26@outlook.com</td>\n",
              "      <td>0.0</td>\n",
              "      <td>67, Vishwakarna Nagar 2, Maharani Farm, Durgap...</td>\n",
              "      <td>NaN</td>\n",
              "      <td>YES</td>\n",
              "    </tr>\n",
              "    <tr>\n",
              "      <th>1466</th>\n",
              "      <td>199201401.0</td>\n",
              "      <td>APPIKONDA GOWRI MANOHAR</td>\n",
              "      <td>199201401.0</td>\n",
              "      <td>MSR</td>\n",
              "      <td>AE</td>\n",
              "      <td>NaN</td>\n",
              "      <td>Male</td>\n",
              "      <td>8.5</td>\n",
              "      <td>appik@iitk.ac.in</td>\n",
              "      <td>SSC</td>\n",
              "      <td>...</td>\n",
              "      <td>9.705741e+09</td>\n",
              "      <td>29.0</td>\n",
              "      <td>34814.0</td>\n",
              "      <td>NaN</td>\n",
              "      <td>C-219 HALL OF RESIDENCE 9 IIT KANPUR</td>\n",
              "      <td>Manohar.appikonda@gmail.com</td>\n",
              "      <td>0.0</td>\n",
              "      <td>Flat 204 sai harshitha enclave pragati nagar h...</td>\n",
              "      <td>NaN</td>\n",
              "      <td>YES</td>\n",
              "    </tr>\n",
              "    <tr>\n",
              "      <th>1467</th>\n",
              "      <td>201160007.0</td>\n",
              "      <td>Niket</td>\n",
              "      <td>201160007.0</td>\n",
              "      <td>MT</td>\n",
              "      <td>PSE</td>\n",
              "      <td>NaN</td>\n",
              "      <td>Male</td>\n",
              "      <td>8.0</td>\n",
              "      <td>niket20@iitk.ac.in</td>\n",
              "      <td>CBSE</td>\n",
              "      <td>...</td>\n",
              "      <td>7.004772e+09</td>\n",
              "      <td>54.0</td>\n",
              "      <td>35785.0</td>\n",
              "      <td>Photonics Science and Engineering</td>\n",
              "      <td>NaN</td>\n",
              "      <td>niket.hyperloop@gmail.com</td>\n",
              "      <td>0.0</td>\n",
              "      <td>Road No. 6A, Adarsh Colony, West Patel Nagar, ...</td>\n",
              "      <td>NaN</td>\n",
              "      <td>YES</td>\n",
              "    </tr>\n",
              "    <tr>\n",
              "      <th>1468</th>\n",
              "      <td>201169016.0</td>\n",
              "      <td>Rahul Waman Bhure</td>\n",
              "      <td>201169016.0</td>\n",
              "      <td>Mdes</td>\n",
              "      <td>DES</td>\n",
              "      <td>NaN</td>\n",
              "      <td>Male</td>\n",
              "      <td>9.0</td>\n",
              "      <td>rwb20@iitk.ac.in</td>\n",
              "      <td>Maharashtra state board</td>\n",
              "      <td>...</td>\n",
              "      <td>6.307538e+09</td>\n",
              "      <td>2.0</td>\n",
              "      <td>35235.0</td>\n",
              "      <td>UX\\UI Design</td>\n",
              "      <td>Not Alloted</td>\n",
              "      <td>rwbhure3@gmail.com</td>\n",
              "      <td>0.0</td>\n",
              "      <td>32 Shree Krishna Nagar Nagpur-09 Maharashtra</td>\n",
              "      <td>NaN</td>\n",
              "      <td>NO</td>\n",
              "    </tr>\n",
              "    <tr>\n",
              "      <th>1469</th>\n",
              "      <td>NaN</td>\n",
              "      <td>NaN</td>\n",
              "      <td>NaN</td>\n",
              "      <td>NaN</td>\n",
              "      <td>NaN</td>\n",
              "      <td>NaN</td>\n",
              "      <td>NaN</td>\n",
              "      <td>NaN</td>\n",
              "      <td>NaN</td>\n",
              "      <td>NaN</td>\n",
              "      <td>...</td>\n",
              "      <td>NaN</td>\n",
              "      <td>NaN</td>\n",
              "      <td>NaN</td>\n",
              "      <td>NaN</td>\n",
              "      <td>NaN</td>\n",
              "      <td>NaN</td>\n",
              "      <td>NaN</td>\n",
              "      <td>NaN</td>\n",
              "      <td>NaN</td>\n",
              "      <td>1111</td>\n",
              "    </tr>\n",
              "  </tbody>\n",
              "</table>\n",
              "<p>1470 rows × 29 columns</p>\n",
              "</div>\n",
              "      <button class=\"colab-df-convert\" onclick=\"convertToInteractive('df-3834fb97-2d05-46f9-a194-35545c9838c2')\"\n",
              "              title=\"Convert this dataframe to an interactive table.\"\n",
              "              style=\"display:none;\">\n",
              "        \n",
              "  <svg xmlns=\"http://www.w3.org/2000/svg\" height=\"24px\"viewBox=\"0 0 24 24\"\n",
              "       width=\"24px\">\n",
              "    <path d=\"M0 0h24v24H0V0z\" fill=\"none\"/>\n",
              "    <path d=\"M18.56 5.44l.94 2.06.94-2.06 2.06-.94-2.06-.94-.94-2.06-.94 2.06-2.06.94zm-11 1L8.5 8.5l.94-2.06 2.06-.94-2.06-.94L8.5 2.5l-.94 2.06-2.06.94zm10 10l.94 2.06.94-2.06 2.06-.94-2.06-.94-.94-2.06-.94 2.06-2.06.94z\"/><path d=\"M17.41 7.96l-1.37-1.37c-.4-.4-.92-.59-1.43-.59-.52 0-1.04.2-1.43.59L10.3 9.45l-7.72 7.72c-.78.78-.78 2.05 0 2.83L4 21.41c.39.39.9.59 1.41.59.51 0 1.02-.2 1.41-.59l7.78-7.78 2.81-2.81c.8-.78.8-2.07 0-2.86zM5.41 20L4 18.59l7.72-7.72 1.47 1.35L5.41 20z\"/>\n",
              "  </svg>\n",
              "      </button>\n",
              "      \n",
              "  <style>\n",
              "    .colab-df-container {\n",
              "      display:flex;\n",
              "      flex-wrap:wrap;\n",
              "      gap: 12px;\n",
              "    }\n",
              "\n",
              "    .colab-df-convert {\n",
              "      background-color: #E8F0FE;\n",
              "      border: none;\n",
              "      border-radius: 50%;\n",
              "      cursor: pointer;\n",
              "      display: none;\n",
              "      fill: #1967D2;\n",
              "      height: 32px;\n",
              "      padding: 0 0 0 0;\n",
              "      width: 32px;\n",
              "    }\n",
              "\n",
              "    .colab-df-convert:hover {\n",
              "      background-color: #E2EBFA;\n",
              "      box-shadow: 0px 1px 2px rgba(60, 64, 67, 0.3), 0px 1px 3px 1px rgba(60, 64, 67, 0.15);\n",
              "      fill: #174EA6;\n",
              "    }\n",
              "\n",
              "    [theme=dark] .colab-df-convert {\n",
              "      background-color: #3B4455;\n",
              "      fill: #D2E3FC;\n",
              "    }\n",
              "\n",
              "    [theme=dark] .colab-df-convert:hover {\n",
              "      background-color: #434B5C;\n",
              "      box-shadow: 0px 1px 3px 1px rgba(0, 0, 0, 0.15);\n",
              "      filter: drop-shadow(0px 1px 2px rgba(0, 0, 0, 0.3));\n",
              "      fill: #FFFFFF;\n",
              "    }\n",
              "  </style>\n",
              "\n",
              "      <script>\n",
              "        const buttonEl =\n",
              "          document.querySelector('#df-3834fb97-2d05-46f9-a194-35545c9838c2 button.colab-df-convert');\n",
              "        buttonEl.style.display =\n",
              "          google.colab.kernel.accessAllowed ? 'block' : 'none';\n",
              "\n",
              "        async function convertToInteractive(key) {\n",
              "          const element = document.querySelector('#df-3834fb97-2d05-46f9-a194-35545c9838c2');\n",
              "          const dataTable =\n",
              "            await google.colab.kernel.invokeFunction('convertToInteractive',\n",
              "                                                     [key], {});\n",
              "          if (!dataTable) return;\n",
              "\n",
              "          const docLinkHtml = 'Like what you see? Visit the ' +\n",
              "            '<a target=\"_blank\" href=https://colab.research.google.com/notebooks/data_table.ipynb>data table notebook</a>'\n",
              "            + ' to learn more about interactive tables.';\n",
              "          element.innerHTML = '';\n",
              "          dataTable['output_type'] = 'display_data';\n",
              "          await google.colab.output.renderOutput(dataTable, element);\n",
              "          const docLink = document.createElement('div');\n",
              "          docLink.innerHTML = docLinkHtml;\n",
              "          element.appendChild(docLink);\n",
              "        }\n",
              "      </script>\n",
              "    </div>\n",
              "  </div>\n",
              "  "
            ]
          },
          "metadata": {},
          "execution_count": 2
        }
      ]
    },
    {
      "cell_type": "code",
      "source": [
        "df.columns"
      ],
      "metadata": {
        "colab": {
          "base_uri": "https://localhost:8080/"
        },
        "id": "8qd0Hs5I6d0P",
        "outputId": "8494dbe1-3b61-4c7d-eb4b-7aaa9c09a3d6"
      },
      "execution_count": null,
      "outputs": [
        {
          "output_type": "execute_result",
          "data": {
            "text/plain": [
              "Index(['Roll Number', 'Name', 'Roll Number.1', 'Primary Program',\n",
              "       'Primary Department', 'Secondary Department', 'Gender', 'CPI', 'Email',\n",
              "       'Class X Board', 'Class X Year', 'Class X Marks', 'Class XII Board',\n",
              "       'Class XII Year', 'Class XII Marks', 'Entrance Exam', 'Entrance Rank',\n",
              "       'Category', 'Friend's Name', 'Friend's Number', 'Application Count',\n",
              "       'DateOfBirth', 'Specilisation', 'Local Address', 'External Email',\n",
              "       'Disability', 'Permanent Address', 'Unnamed: 27', 'Result'],\n",
              "      dtype='object')"
            ]
          },
          "metadata": {},
          "execution_count": 3
        }
      ]
    },
    {
      "cell_type": "code",
      "source": [
        "df_test=df.drop(df.columns[[0, 1, 2,8,9,10,11,12,13,14,18,19,20,21,22,23,24,25,26,27]],\n",
        "                       axis = 1)\n"
      ],
      "metadata": {
        "id": "gBDYD4yK8k9_"
      },
      "execution_count": null,
      "outputs": []
    },
    {
      "cell_type": "code",
      "source": [
        "df1=df_test"
      ],
      "metadata": {
        "id": "7SrvChYp8uGl"
      },
      "execution_count": null,
      "outputs": []
    },
    {
      "cell_type": "code",
      "source": [
        "df1"
      ],
      "metadata": {
        "colab": {
          "base_uri": "https://localhost:8080/",
          "height": 589
        },
        "id": "W7Pgf6w8BCey",
        "outputId": "b8b3578f-bda8-4051-c192-5cc7bc663181"
      },
      "execution_count": null,
      "outputs": [
        {
          "output_type": "execute_result",
          "data": {
            "text/plain": [
              "     Primary Program Primary Department Secondary Department Gender  CPI  \\\n",
              "0                 BT                CHE                  NaN   Male  3.6   \n",
              "1                 BT                MSE                  NaN   Male  5.3   \n",
              "2                 BT                CHE                  NaN   Male  6.1   \n",
              "3                 BT                CSE                  NaN   Male  6.0   \n",
              "4                 BT                 EE                  NaN   Male  8.4   \n",
              "...              ...                ...                  ...    ...  ...   \n",
              "1465             MSR                CGS                  NaN   Male  9.2   \n",
              "1466             MSR                 AE                  NaN   Male  8.5   \n",
              "1467              MT                PSE                  NaN   Male  8.0   \n",
              "1468            Mdes                DES                  NaN   Male  9.0   \n",
              "1469             NaN                NaN                  NaN    NaN  NaN   \n",
              "\n",
              "     Entrance Exam  Entrance Rank Category Result  \n",
              "0     JEE-ADVANCED            0.0       SC     NO  \n",
              "1     JEE-ADVANCED         1309.0       SC    YES  \n",
              "2     JEE-ADVANCED            0.0       SC    YES  \n",
              "3     JEE-ADVANCED          801.0  OBC-NCL    YES  \n",
              "4     JEE-ADVANCED          618.0       GN     NO  \n",
              "...            ...            ...      ...    ...  \n",
              "1465         Other            0.0       GN    YES  \n",
              "1466          GATE          250.0       GN    YES  \n",
              "1467          GATE          883.0       GN    YES  \n",
              "1468          GATE         3381.0  OBC-NCL     NO  \n",
              "1469           NaN            NaN      NaN   1111  \n",
              "\n",
              "[1470 rows x 9 columns]"
            ],
            "text/html": [
              "\n",
              "  <div id=\"df-7a9d1c45-e055-4d69-8315-c2bbadace615\">\n",
              "    <div class=\"colab-df-container\">\n",
              "      <div>\n",
              "<style scoped>\n",
              "    .dataframe tbody tr th:only-of-type {\n",
              "        vertical-align: middle;\n",
              "    }\n",
              "\n",
              "    .dataframe tbody tr th {\n",
              "        vertical-align: top;\n",
              "    }\n",
              "\n",
              "    .dataframe thead th {\n",
              "        text-align: right;\n",
              "    }\n",
              "</style>\n",
              "<table border=\"1\" class=\"dataframe\">\n",
              "  <thead>\n",
              "    <tr style=\"text-align: right;\">\n",
              "      <th></th>\n",
              "      <th>Primary Program</th>\n",
              "      <th>Primary Department</th>\n",
              "      <th>Secondary Department</th>\n",
              "      <th>Gender</th>\n",
              "      <th>CPI</th>\n",
              "      <th>Entrance Exam</th>\n",
              "      <th>Entrance Rank</th>\n",
              "      <th>Category</th>\n",
              "      <th>Result</th>\n",
              "    </tr>\n",
              "  </thead>\n",
              "  <tbody>\n",
              "    <tr>\n",
              "      <th>0</th>\n",
              "      <td>BT</td>\n",
              "      <td>CHE</td>\n",
              "      <td>NaN</td>\n",
              "      <td>Male</td>\n",
              "      <td>3.6</td>\n",
              "      <td>JEE-ADVANCED</td>\n",
              "      <td>0.0</td>\n",
              "      <td>SC</td>\n",
              "      <td>NO</td>\n",
              "    </tr>\n",
              "    <tr>\n",
              "      <th>1</th>\n",
              "      <td>BT</td>\n",
              "      <td>MSE</td>\n",
              "      <td>NaN</td>\n",
              "      <td>Male</td>\n",
              "      <td>5.3</td>\n",
              "      <td>JEE-ADVANCED</td>\n",
              "      <td>1309.0</td>\n",
              "      <td>SC</td>\n",
              "      <td>YES</td>\n",
              "    </tr>\n",
              "    <tr>\n",
              "      <th>2</th>\n",
              "      <td>BT</td>\n",
              "      <td>CHE</td>\n",
              "      <td>NaN</td>\n",
              "      <td>Male</td>\n",
              "      <td>6.1</td>\n",
              "      <td>JEE-ADVANCED</td>\n",
              "      <td>0.0</td>\n",
              "      <td>SC</td>\n",
              "      <td>YES</td>\n",
              "    </tr>\n",
              "    <tr>\n",
              "      <th>3</th>\n",
              "      <td>BT</td>\n",
              "      <td>CSE</td>\n",
              "      <td>NaN</td>\n",
              "      <td>Male</td>\n",
              "      <td>6.0</td>\n",
              "      <td>JEE-ADVANCED</td>\n",
              "      <td>801.0</td>\n",
              "      <td>OBC-NCL</td>\n",
              "      <td>YES</td>\n",
              "    </tr>\n",
              "    <tr>\n",
              "      <th>4</th>\n",
              "      <td>BT</td>\n",
              "      <td>EE</td>\n",
              "      <td>NaN</td>\n",
              "      <td>Male</td>\n",
              "      <td>8.4</td>\n",
              "      <td>JEE-ADVANCED</td>\n",
              "      <td>618.0</td>\n",
              "      <td>GN</td>\n",
              "      <td>NO</td>\n",
              "    </tr>\n",
              "    <tr>\n",
              "      <th>...</th>\n",
              "      <td>...</td>\n",
              "      <td>...</td>\n",
              "      <td>...</td>\n",
              "      <td>...</td>\n",
              "      <td>...</td>\n",
              "      <td>...</td>\n",
              "      <td>...</td>\n",
              "      <td>...</td>\n",
              "      <td>...</td>\n",
              "    </tr>\n",
              "    <tr>\n",
              "      <th>1465</th>\n",
              "      <td>MSR</td>\n",
              "      <td>CGS</td>\n",
              "      <td>NaN</td>\n",
              "      <td>Male</td>\n",
              "      <td>9.2</td>\n",
              "      <td>Other</td>\n",
              "      <td>0.0</td>\n",
              "      <td>GN</td>\n",
              "      <td>YES</td>\n",
              "    </tr>\n",
              "    <tr>\n",
              "      <th>1466</th>\n",
              "      <td>MSR</td>\n",
              "      <td>AE</td>\n",
              "      <td>NaN</td>\n",
              "      <td>Male</td>\n",
              "      <td>8.5</td>\n",
              "      <td>GATE</td>\n",
              "      <td>250.0</td>\n",
              "      <td>GN</td>\n",
              "      <td>YES</td>\n",
              "    </tr>\n",
              "    <tr>\n",
              "      <th>1467</th>\n",
              "      <td>MT</td>\n",
              "      <td>PSE</td>\n",
              "      <td>NaN</td>\n",
              "      <td>Male</td>\n",
              "      <td>8.0</td>\n",
              "      <td>GATE</td>\n",
              "      <td>883.0</td>\n",
              "      <td>GN</td>\n",
              "      <td>YES</td>\n",
              "    </tr>\n",
              "    <tr>\n",
              "      <th>1468</th>\n",
              "      <td>Mdes</td>\n",
              "      <td>DES</td>\n",
              "      <td>NaN</td>\n",
              "      <td>Male</td>\n",
              "      <td>9.0</td>\n",
              "      <td>GATE</td>\n",
              "      <td>3381.0</td>\n",
              "      <td>OBC-NCL</td>\n",
              "      <td>NO</td>\n",
              "    </tr>\n",
              "    <tr>\n",
              "      <th>1469</th>\n",
              "      <td>NaN</td>\n",
              "      <td>NaN</td>\n",
              "      <td>NaN</td>\n",
              "      <td>NaN</td>\n",
              "      <td>NaN</td>\n",
              "      <td>NaN</td>\n",
              "      <td>NaN</td>\n",
              "      <td>NaN</td>\n",
              "      <td>1111</td>\n",
              "    </tr>\n",
              "  </tbody>\n",
              "</table>\n",
              "<p>1470 rows × 9 columns</p>\n",
              "</div>\n",
              "      <button class=\"colab-df-convert\" onclick=\"convertToInteractive('df-7a9d1c45-e055-4d69-8315-c2bbadace615')\"\n",
              "              title=\"Convert this dataframe to an interactive table.\"\n",
              "              style=\"display:none;\">\n",
              "        \n",
              "  <svg xmlns=\"http://www.w3.org/2000/svg\" height=\"24px\"viewBox=\"0 0 24 24\"\n",
              "       width=\"24px\">\n",
              "    <path d=\"M0 0h24v24H0V0z\" fill=\"none\"/>\n",
              "    <path d=\"M18.56 5.44l.94 2.06.94-2.06 2.06-.94-2.06-.94-.94-2.06-.94 2.06-2.06.94zm-11 1L8.5 8.5l.94-2.06 2.06-.94-2.06-.94L8.5 2.5l-.94 2.06-2.06.94zm10 10l.94 2.06.94-2.06 2.06-.94-2.06-.94-.94-2.06-.94 2.06-2.06.94z\"/><path d=\"M17.41 7.96l-1.37-1.37c-.4-.4-.92-.59-1.43-.59-.52 0-1.04.2-1.43.59L10.3 9.45l-7.72 7.72c-.78.78-.78 2.05 0 2.83L4 21.41c.39.39.9.59 1.41.59.51 0 1.02-.2 1.41-.59l7.78-7.78 2.81-2.81c.8-.78.8-2.07 0-2.86zM5.41 20L4 18.59l7.72-7.72 1.47 1.35L5.41 20z\"/>\n",
              "  </svg>\n",
              "      </button>\n",
              "      \n",
              "  <style>\n",
              "    .colab-df-container {\n",
              "      display:flex;\n",
              "      flex-wrap:wrap;\n",
              "      gap: 12px;\n",
              "    }\n",
              "\n",
              "    .colab-df-convert {\n",
              "      background-color: #E8F0FE;\n",
              "      border: none;\n",
              "      border-radius: 50%;\n",
              "      cursor: pointer;\n",
              "      display: none;\n",
              "      fill: #1967D2;\n",
              "      height: 32px;\n",
              "      padding: 0 0 0 0;\n",
              "      width: 32px;\n",
              "    }\n",
              "\n",
              "    .colab-df-convert:hover {\n",
              "      background-color: #E2EBFA;\n",
              "      box-shadow: 0px 1px 2px rgba(60, 64, 67, 0.3), 0px 1px 3px 1px rgba(60, 64, 67, 0.15);\n",
              "      fill: #174EA6;\n",
              "    }\n",
              "\n",
              "    [theme=dark] .colab-df-convert {\n",
              "      background-color: #3B4455;\n",
              "      fill: #D2E3FC;\n",
              "    }\n",
              "\n",
              "    [theme=dark] .colab-df-convert:hover {\n",
              "      background-color: #434B5C;\n",
              "      box-shadow: 0px 1px 3px 1px rgba(0, 0, 0, 0.15);\n",
              "      filter: drop-shadow(0px 1px 2px rgba(0, 0, 0, 0.3));\n",
              "      fill: #FFFFFF;\n",
              "    }\n",
              "  </style>\n",
              "\n",
              "      <script>\n",
              "        const buttonEl =\n",
              "          document.querySelector('#df-7a9d1c45-e055-4d69-8315-c2bbadace615 button.colab-df-convert');\n",
              "        buttonEl.style.display =\n",
              "          google.colab.kernel.accessAllowed ? 'block' : 'none';\n",
              "\n",
              "        async function convertToInteractive(key) {\n",
              "          const element = document.querySelector('#df-7a9d1c45-e055-4d69-8315-c2bbadace615');\n",
              "          const dataTable =\n",
              "            await google.colab.kernel.invokeFunction('convertToInteractive',\n",
              "                                                     [key], {});\n",
              "          if (!dataTable) return;\n",
              "\n",
              "          const docLinkHtml = 'Like what you see? Visit the ' +\n",
              "            '<a target=\"_blank\" href=https://colab.research.google.com/notebooks/data_table.ipynb>data table notebook</a>'\n",
              "            + ' to learn more about interactive tables.';\n",
              "          element.innerHTML = '';\n",
              "          dataTable['output_type'] = 'display_data';\n",
              "          await google.colab.output.renderOutput(dataTable, element);\n",
              "          const docLink = document.createElement('div');\n",
              "          docLink.innerHTML = docLinkHtml;\n",
              "          element.appendChild(docLink);\n",
              "        }\n",
              "      </script>\n",
              "    </div>\n",
              "  </div>\n",
              "  "
            ]
          },
          "metadata": {},
          "execution_count": 6
        }
      ]
    },
    {
      "cell_type": "code",
      "source": [
        "df1.describe()"
      ],
      "metadata": {
        "colab": {
          "base_uri": "https://localhost:8080/",
          "height": 300
        },
        "id": "350SMvGdBJNd",
        "outputId": "96acc991-904c-4932-95de-03b785f16482"
      },
      "execution_count": null,
      "outputs": [
        {
          "output_type": "execute_result",
          "data": {
            "text/plain": [
              "               CPI  Entrance Rank\n",
              "count  1469.000000    1469.000000\n",
              "mean      7.966508    3481.522805\n",
              "std       1.182805    4995.283916\n",
              "min       3.600000     -19.000000\n",
              "25%       7.200000     264.000000\n",
              "50%       8.000000    1439.000000\n",
              "75%       8.900000    4172.000000\n",
              "max      10.000000   30679.000000"
            ],
            "text/html": [
              "\n",
              "  <div id=\"df-f8f610fc-45d3-4689-acdd-91e52eb684af\">\n",
              "    <div class=\"colab-df-container\">\n",
              "      <div>\n",
              "<style scoped>\n",
              "    .dataframe tbody tr th:only-of-type {\n",
              "        vertical-align: middle;\n",
              "    }\n",
              "\n",
              "    .dataframe tbody tr th {\n",
              "        vertical-align: top;\n",
              "    }\n",
              "\n",
              "    .dataframe thead th {\n",
              "        text-align: right;\n",
              "    }\n",
              "</style>\n",
              "<table border=\"1\" class=\"dataframe\">\n",
              "  <thead>\n",
              "    <tr style=\"text-align: right;\">\n",
              "      <th></th>\n",
              "      <th>CPI</th>\n",
              "      <th>Entrance Rank</th>\n",
              "    </tr>\n",
              "  </thead>\n",
              "  <tbody>\n",
              "    <tr>\n",
              "      <th>count</th>\n",
              "      <td>1469.000000</td>\n",
              "      <td>1469.000000</td>\n",
              "    </tr>\n",
              "    <tr>\n",
              "      <th>mean</th>\n",
              "      <td>7.966508</td>\n",
              "      <td>3481.522805</td>\n",
              "    </tr>\n",
              "    <tr>\n",
              "      <th>std</th>\n",
              "      <td>1.182805</td>\n",
              "      <td>4995.283916</td>\n",
              "    </tr>\n",
              "    <tr>\n",
              "      <th>min</th>\n",
              "      <td>3.600000</td>\n",
              "      <td>-19.000000</td>\n",
              "    </tr>\n",
              "    <tr>\n",
              "      <th>25%</th>\n",
              "      <td>7.200000</td>\n",
              "      <td>264.000000</td>\n",
              "    </tr>\n",
              "    <tr>\n",
              "      <th>50%</th>\n",
              "      <td>8.000000</td>\n",
              "      <td>1439.000000</td>\n",
              "    </tr>\n",
              "    <tr>\n",
              "      <th>75%</th>\n",
              "      <td>8.900000</td>\n",
              "      <td>4172.000000</td>\n",
              "    </tr>\n",
              "    <tr>\n",
              "      <th>max</th>\n",
              "      <td>10.000000</td>\n",
              "      <td>30679.000000</td>\n",
              "    </tr>\n",
              "  </tbody>\n",
              "</table>\n",
              "</div>\n",
              "      <button class=\"colab-df-convert\" onclick=\"convertToInteractive('df-f8f610fc-45d3-4689-acdd-91e52eb684af')\"\n",
              "              title=\"Convert this dataframe to an interactive table.\"\n",
              "              style=\"display:none;\">\n",
              "        \n",
              "  <svg xmlns=\"http://www.w3.org/2000/svg\" height=\"24px\"viewBox=\"0 0 24 24\"\n",
              "       width=\"24px\">\n",
              "    <path d=\"M0 0h24v24H0V0z\" fill=\"none\"/>\n",
              "    <path d=\"M18.56 5.44l.94 2.06.94-2.06 2.06-.94-2.06-.94-.94-2.06-.94 2.06-2.06.94zm-11 1L8.5 8.5l.94-2.06 2.06-.94-2.06-.94L8.5 2.5l-.94 2.06-2.06.94zm10 10l.94 2.06.94-2.06 2.06-.94-2.06-.94-.94-2.06-.94 2.06-2.06.94z\"/><path d=\"M17.41 7.96l-1.37-1.37c-.4-.4-.92-.59-1.43-.59-.52 0-1.04.2-1.43.59L10.3 9.45l-7.72 7.72c-.78.78-.78 2.05 0 2.83L4 21.41c.39.39.9.59 1.41.59.51 0 1.02-.2 1.41-.59l7.78-7.78 2.81-2.81c.8-.78.8-2.07 0-2.86zM5.41 20L4 18.59l7.72-7.72 1.47 1.35L5.41 20z\"/>\n",
              "  </svg>\n",
              "      </button>\n",
              "      \n",
              "  <style>\n",
              "    .colab-df-container {\n",
              "      display:flex;\n",
              "      flex-wrap:wrap;\n",
              "      gap: 12px;\n",
              "    }\n",
              "\n",
              "    .colab-df-convert {\n",
              "      background-color: #E8F0FE;\n",
              "      border: none;\n",
              "      border-radius: 50%;\n",
              "      cursor: pointer;\n",
              "      display: none;\n",
              "      fill: #1967D2;\n",
              "      height: 32px;\n",
              "      padding: 0 0 0 0;\n",
              "      width: 32px;\n",
              "    }\n",
              "\n",
              "    .colab-df-convert:hover {\n",
              "      background-color: #E2EBFA;\n",
              "      box-shadow: 0px 1px 2px rgba(60, 64, 67, 0.3), 0px 1px 3px 1px rgba(60, 64, 67, 0.15);\n",
              "      fill: #174EA6;\n",
              "    }\n",
              "\n",
              "    [theme=dark] .colab-df-convert {\n",
              "      background-color: #3B4455;\n",
              "      fill: #D2E3FC;\n",
              "    }\n",
              "\n",
              "    [theme=dark] .colab-df-convert:hover {\n",
              "      background-color: #434B5C;\n",
              "      box-shadow: 0px 1px 3px 1px rgba(0, 0, 0, 0.15);\n",
              "      filter: drop-shadow(0px 1px 2px rgba(0, 0, 0, 0.3));\n",
              "      fill: #FFFFFF;\n",
              "    }\n",
              "  </style>\n",
              "\n",
              "      <script>\n",
              "        const buttonEl =\n",
              "          document.querySelector('#df-f8f610fc-45d3-4689-acdd-91e52eb684af button.colab-df-convert');\n",
              "        buttonEl.style.display =\n",
              "          google.colab.kernel.accessAllowed ? 'block' : 'none';\n",
              "\n",
              "        async function convertToInteractive(key) {\n",
              "          const element = document.querySelector('#df-f8f610fc-45d3-4689-acdd-91e52eb684af');\n",
              "          const dataTable =\n",
              "            await google.colab.kernel.invokeFunction('convertToInteractive',\n",
              "                                                     [key], {});\n",
              "          if (!dataTable) return;\n",
              "\n",
              "          const docLinkHtml = 'Like what you see? Visit the ' +\n",
              "            '<a target=\"_blank\" href=https://colab.research.google.com/notebooks/data_table.ipynb>data table notebook</a>'\n",
              "            + ' to learn more about interactive tables.';\n",
              "          element.innerHTML = '';\n",
              "          dataTable['output_type'] = 'display_data';\n",
              "          await google.colab.output.renderOutput(dataTable, element);\n",
              "          const docLink = document.createElement('div');\n",
              "          docLink.innerHTML = docLinkHtml;\n",
              "          element.appendChild(docLink);\n",
              "        }\n",
              "      </script>\n",
              "    </div>\n",
              "  </div>\n",
              "  "
            ]
          },
          "metadata": {},
          "execution_count": 7
        }
      ]
    },
    {
      "cell_type": "code",
      "source": [
        "df1.isnull().sum()"
      ],
      "metadata": {
        "colab": {
          "base_uri": "https://localhost:8080/"
        },
        "id": "gKbBOEWRBx5H",
        "outputId": "01aff2d2-f369-49ef-c940-31256159697e"
      },
      "execution_count": null,
      "outputs": [
        {
          "output_type": "execute_result",
          "data": {
            "text/plain": [
              "Primary Program            1\n",
              "Primary Department         1\n",
              "Secondary Department    1306\n",
              "Gender                     1\n",
              "CPI                        1\n",
              "Entrance Exam              1\n",
              "Entrance Rank              1\n",
              "Category                   1\n",
              "Result                     0\n",
              "dtype: int64"
            ]
          },
          "metadata": {},
          "execution_count": 9
        }
      ]
    },
    {
      "cell_type": "code",
      "source": [
        "df1=df1.dropna(subset=['CPI'])"
      ],
      "metadata": {
        "id": "IclWm2PaB2mv"
      },
      "execution_count": null,
      "outputs": []
    },
    {
      "cell_type": "code",
      "source": [
        "df1.isnull().sum()"
      ],
      "metadata": {
        "colab": {
          "base_uri": "https://localhost:8080/"
        },
        "id": "Tc4IAwoaCfQo",
        "outputId": "835b517b-bdaa-4b3e-9560-accc85d53168"
      },
      "execution_count": null,
      "outputs": [
        {
          "output_type": "execute_result",
          "data": {
            "text/plain": [
              "Primary Program            0\n",
              "Primary Department         0\n",
              "Secondary Department    1305\n",
              "Gender                     0\n",
              "CPI                        0\n",
              "Entrance Exam              0\n",
              "Entrance Rank              0\n",
              "Category                   0\n",
              "Result                     0\n",
              "dtype: int64"
            ]
          },
          "metadata": {},
          "execution_count": 11
        }
      ]
    },
    {
      "cell_type": "code",
      "source": [
        "df1 = df1.fillna('not_opted')"
      ],
      "metadata": {
        "id": "yiCHD975C06S"
      },
      "execution_count": null,
      "outputs": []
    },
    {
      "cell_type": "code",
      "source": [
        "df1.isnull().sum()"
      ],
      "metadata": {
        "colab": {
          "base_uri": "https://localhost:8080/"
        },
        "id": "9FZo2CO8FWL7",
        "outputId": "f2e5b854-a2b3-4a3c-f01c-e02943936aca"
      },
      "execution_count": null,
      "outputs": [
        {
          "output_type": "execute_result",
          "data": {
            "text/plain": [
              "Primary Program         0\n",
              "Primary Department      0\n",
              "Secondary Department    0\n",
              "Gender                  0\n",
              "CPI                     0\n",
              "Entrance Exam           0\n",
              "Entrance Rank           0\n",
              "Category                0\n",
              "Result                  0\n",
              "dtype: int64"
            ]
          },
          "metadata": {},
          "execution_count": 13
        }
      ]
    },
    {
      "cell_type": "code",
      "source": [
        "df1 = df1.astype({\"Primary Program\":'category',\"Primary Department\":'category',\"Secondary Department\":'category',\"Gender\":'category',\"Entrance Exam\":'category',\"Entrance Rank\":'int64',\"Category\":'category',\"Result\":'category'})"
      ],
      "metadata": {
        "id": "Dc3xXkfyFe11"
      },
      "execution_count": null,
      "outputs": []
    },
    {
      "cell_type": "code",
      "source": [
        "df1.columns"
      ],
      "metadata": {
        "colab": {
          "base_uri": "https://localhost:8080/"
        },
        "id": "AC-lVpqHxXVa",
        "outputId": "28326708-f471-481e-9dad-d0a482156376"
      },
      "execution_count": null,
      "outputs": [
        {
          "output_type": "execute_result",
          "data": {
            "text/plain": [
              "Index(['Primary Program', 'Primary Department', 'Secondary Department',\n",
              "       'Gender', 'CPI', 'Entrance Exam', 'Entrance Rank', 'Category',\n",
              "       'Result'],\n",
              "      dtype='object')"
            ]
          },
          "metadata": {},
          "execution_count": 15
        }
      ]
    },
    {
      "cell_type": "code",
      "source": [
        "indexNames = df1[ df1['Entrance Rank'] <=0 ].index\n",
        "# Delete these row indexes from dataFrame\n",
        "df1.drop(indexNames , inplace=True)"
      ],
      "metadata": {
        "id": "CGL5Eotkpn3R"
      },
      "execution_count": null,
      "outputs": []
    },
    {
      "cell_type": "code",
      "source": [
        "df1.shape[0]"
      ],
      "metadata": {
        "colab": {
          "base_uri": "https://localhost:8080/"
        },
        "id": "XyqXqcNoybBB",
        "outputId": "95a9226c-61ae-4f5d-a262-e7ee3593956d"
      },
      "execution_count": null,
      "outputs": [
        {
          "output_type": "execute_result",
          "data": {
            "text/plain": [
              "1352"
            ]
          },
          "metadata": {},
          "execution_count": 18
        }
      ]
    },
    {
      "cell_type": "code",
      "source": [
        "import seaborn as sns"
      ],
      "metadata": {
        "id": "sjzpCSyogn3e"
      },
      "execution_count": null,
      "outputs": []
    },
    {
      "cell_type": "code",
      "source": [
        "sns.catplot(x=\"CPI\", y=\"Result\",data=df1)"
      ],
      "metadata": {
        "id": "-GZVle0nD5b6"
      },
      "execution_count": null,
      "outputs": []
    },
    {
      "cell_type": "code",
      "source": [
        "sns.pairplot(df1, hue=\"Result\",palette=\"bright\")"
      ],
      "metadata": {
        "colab": {
          "base_uri": "https://localhost:8080/",
          "height": 391
        },
        "id": "fvEbLnM4glld",
        "outputId": "7c4ade47-c918-4f8b-d60b-cfc0d9ea5bbb"
      },
      "execution_count": null,
      "outputs": [
        {
          "output_type": "execute_result",
          "data": {
            "text/plain": [
              "<seaborn.axisgrid.PairGrid at 0x7fbacdab7c50>"
            ]
          },
          "metadata": {},
          "execution_count": 100
        },
        {
          "output_type": "display_data",
          "data": {
            "text/plain": [
              "<Figure size 414.5x360 with 6 Axes>"
            ],
            "image/png": "[encoded data removed]"
          },
          "metadata": {
            "needs_background": "light"
          }
        }
      ]
    },
    {
      "cell_type": "code",
      "source": [
        "df1_y=df1['Result']"
      ],
      "metadata": {
        "id": "W7PCPOjvIGMW"
      },
      "execution_count": null,
      "outputs": []
    },
    {
      "cell_type": "code",
      "source": [
        "df1_x=df1.drop('Result',axis=1)"
      ],
      "metadata": {
        "id": "CKHkWqWCfjBb"
      },
      "execution_count": null,
      "outputs": []
    },
    {
      "cell_type": "code",
      "source": [
        "from sklearn.model_selection import train_test_split"
      ],
      "metadata": {
        "id": "CFzIDyM8zxuu"
      },
      "execution_count": null,
      "outputs": []
    },
    {
      "cell_type": "code",
      "source": [
        "x_encoded=pd.get_dummies(df1_x,columns=['Primary Program','Primary Department','Secondary Department','Gender','Entrance Exam','Category'])"
      ],
      "metadata": {
        "id": "n2nay2m_sG9_"
      },
      "execution_count": null,
      "outputs": []
    },
    {
      "cell_type": "code",
      "source": [
        "x_encoded.head()"
      ],
      "metadata": {
        "colab": {
          "base_uri": "https://localhost:8080/",
          "height": 334
        },
        "id": "sMyK96witvjH",
        "outputId": "2c48123a-6235-40e6-c5c2-ae3d95a99f35"
      },
      "execution_count": null,
      "outputs": [
        {
          "output_type": "execute_result",
          "data": {
            "text/plain": [
              "   CPI  Entrance Rank  Primary Program_BS  Primary Program_BT  \\\n",
              "1  5.3           1309                   0                   1   \n",
              "3  6.0            801                   0                   1   \n",
              "4  8.4            618                   0                   1   \n",
              "6  7.1           2469                   0                   1   \n",
              "7  4.3            826                   0                   1   \n",
              "\n",
              "   Primary Program_DoubleMajor  Primary Program_MBA  Primary Program_MSR  \\\n",
              "1                            0                    0                    0   \n",
              "3                            0                    0                    0   \n",
              "4                            0                    0                    0   \n",
              "6                            0                    0                    0   \n",
              "7                            0                    0                    0   \n",
              "\n",
              "   Primary Program_MSc  Primary Program_MT  Primary Program_Mdes  ...  \\\n",
              "1                    0                   0                     0  ...   \n",
              "3                    0                   0                     0  ...   \n",
              "4                    0                   0                     0  ...   \n",
              "6                    0                   0                     0  ...   \n",
              "7                    0                   0                     0  ...   \n",
              "\n",
              "   Gender_Female  Gender_Male  Entrance Exam_GATE  Entrance Exam_JAM  \\\n",
              "1              0            1                   0                  0   \n",
              "3              0            1                   0                  0   \n",
              "4              0            1                   0                  0   \n",
              "6              0            1                   0                  0   \n",
              "7              0            1                   0                  0   \n",
              "\n",
              "   Entrance Exam_JEE-ADVANCED  Entrance Exam_Other  Category_GN  \\\n",
              "1                           1                    0            0   \n",
              "3                           1                    0            0   \n",
              "4                           1                    0            1   \n",
              "6                           1                    0            1   \n",
              "7                           1                    0            0   \n",
              "\n",
              "   Category_OBC-NCL  Category_SC  Category_ST  \n",
              "1                 0            1            0  \n",
              "3                 1            0            0  \n",
              "4                 0            0            0  \n",
              "6                 0            0            0  \n",
              "7                 1            0            0  \n",
              "\n",
              "[5 rows x 58 columns]"
            ],
            "text/html": [
              "\n",
              "  <div id=\"df-80905582-efc9-4c4e-ac90-32f42e96a785\">\n",
              "    <div class=\"colab-df-container\">\n",
              "      <div>\n",
              "<style scoped>\n",
              "    .dataframe tbody tr th:only-of-type {\n",
              "        vertical-align: middle;\n",
              "    }\n",
              "\n",
              "    .dataframe tbody tr th {\n",
              "        vertical-align: top;\n",
              "    }\n",
              "\n",
              "    .dataframe thead th {\n",
              "        text-align: right;\n",
              "    }\n",
              "</style>\n",
              "<table border=\"1\" class=\"dataframe\">\n",
              "  <thead>\n",
              "    <tr style=\"text-align: right;\">\n",
              "      <th></th>\n",
              "      <th>CPI</th>\n",
              "      <th>Entrance Rank</th>\n",
              "      <th>Primary Program_BS</th>\n",
              "      <th>Primary Program_BT</th>\n",
              "      <th>Primary Program_DoubleMajor</th>\n",
              "      <th>Primary Program_MBA</th>\n",
              "      <th>Primary Program_MSR</th>\n",
              "      <th>Primary Program_MSc</th>\n",
              "      <th>Primary Program_MT</th>\n",
              "      <th>Primary Program_Mdes</th>\n",
              "      <th>...</th>\n",
              "      <th>Gender_Female</th>\n",
              "      <th>Gender_Male</th>\n",
              "      <th>Entrance Exam_GATE</th>\n",
              "      <th>Entrance Exam_JAM</th>\n",
              "      <th>Entrance Exam_JEE-ADVANCED</th>\n",
              "      <th>Entrance Exam_Other</th>\n",
              "      <th>Category_GN</th>\n",
              "      <th>Category_OBC-NCL</th>\n",
              "      <th>Category_SC</th>\n",
              "      <th>Category_ST</th>\n",
              "    </tr>\n",
              "  </thead>\n",
              "  <tbody>\n",
              "    <tr>\n",
              "      <th>1</th>\n",
              "      <td>5.3</td>\n",
              "      <td>1309</td>\n",
              "      <td>0</td>\n",
              "      <td>1</td>\n",
              "      <td>0</td>\n",
              "      <td>0</td>\n",
              "      <td>0</td>\n",
              "      <td>0</td>\n",
              "      <td>0</td>\n",
              "      <td>0</td>\n",
              "      <td>...</td>\n",
              "      <td>0</td>\n",
              "      <td>1</td>\n",
              "      <td>0</td>\n",
              "      <td>0</td>\n",
              "      <td>1</td>\n",
              "      <td>0</td>\n",
              "      <td>0</td>\n",
              "      <td>0</td>\n",
              "      <td>1</td>\n",
              "      <td>0</td>\n",
              "    </tr>\n",
              "    <tr>\n",
              "      <th>3</th>\n",
              "      <td>6.0</td>\n",
              "      <td>801</td>\n",
              "      <td>0</td>\n",
              "      <td>1</td>\n",
              "      <td>0</td>\n",
              "      <td>0</td>\n",
              "      <td>0</td>\n",
              "      <td>0</td>\n",
              "      <td>0</td>\n",
              "      <td>0</td>\n",
              "      <td>...</td>\n",
              "      <td>0</td>\n",
              "      <td>1</td>\n",
              "      <td>0</td>\n",
              "      <td>0</td>\n",
              "      <td>1</td>\n",
              "      <td>0</td>\n",
              "      <td>0</td>\n",
              "      <td>1</td>\n",
              "      <td>0</td>\n",
              "      <td>0</td>\n",
              "    </tr>\n",
              "    <tr>\n",
              "      <th>4</th>\n",
              "      <td>8.4</td>\n",
              "      <td>618</td>\n",
              "      <td>0</td>\n",
              "      <td>1</td>\n",
              "      <td>0</td>\n",
              "      <td>0</td>\n",
              "      <td>0</td>\n",
              "      <td>0</td>\n",
              "      <td>0</td>\n",
              "      <td>0</td>\n",
              "      <td>...</td>\n",
              "      <td>0</td>\n",
              "      <td>1</td>\n",
              "      <td>0</td>\n",
              "      <td>0</td>\n",
              "      <td>1</td>\n",
              "      <td>0</td>\n",
              "      <td>1</td>\n",
              "      <td>0</td>\n",
              "      <td>0</td>\n",
              "      <td>0</td>\n",
              "    </tr>\n",
              "    <tr>\n",
              "      <th>6</th>\n",
              "      <td>7.1</td>\n",
              "      <td>2469</td>\n",
              "      <td>0</td>\n",
              "      <td>1</td>\n",
              "      <td>0</td>\n",
              "      <td>0</td>\n",
              "      <td>0</td>\n",
              "      <td>0</td>\n",
              "      <td>0</td>\n",
              "      <td>0</td>\n",
              "      <td>...</td>\n",
              "      <td>0</td>\n",
              "      <td>1</td>\n",
              "      <td>0</td>\n",
              "      <td>0</td>\n",
              "      <td>1</td>\n",
              "      <td>0</td>\n",
              "      <td>1</td>\n",
              "      <td>0</td>\n",
              "      <td>0</td>\n",
              "      <td>0</td>\n",
              "    </tr>\n",
              "    <tr>\n",
              "      <th>7</th>\n",
              "      <td>4.3</td>\n",
              "      <td>826</td>\n",
              "      <td>0</td>\n",
              "      <td>1</td>\n",
              "      <td>0</td>\n",
              "      <td>0</td>\n",
              "      <td>0</td>\n",
              "      <td>0</td>\n",
              "      <td>0</td>\n",
              "      <td>0</td>\n",
              "      <td>...</td>\n",
              "      <td>0</td>\n",
              "      <td>1</td>\n",
              "      <td>0</td>\n",
              "      <td>0</td>\n",
              "      <td>1</td>\n",
              "      <td>0</td>\n",
              "      <td>0</td>\n",
              "      <td>1</td>\n",
              "      <td>0</td>\n",
              "      <td>0</td>\n",
              "    </tr>\n",
              "  </tbody>\n",
              "</table>\n",
              "<p>5 rows × 58 columns</p>\n",
              "</div>\n",
              "      <button class=\"colab-df-convert\" onclick=\"convertToInteractive('df-80905582-efc9-4c4e-ac90-32f42e96a785')\"\n",
              "              title=\"Convert this dataframe to an interactive table.\"\n",
              "              style=\"display:none;\">\n",
              "        \n",
              "  <svg xmlns=\"http://www.w3.org/2000/svg\" height=\"24px\"viewBox=\"0 0 24 24\"\n",
              "       width=\"24px\">\n",
              "    <path d=\"M0 0h24v24H0V0z\" fill=\"none\"/>\n",
              "    <path d=\"M18.56 5.44l.94 2.06.94-2.06 2.06-.94-2.06-.94-.94-2.06-.94 2.06-2.06.94zm-11 1L8.5 8.5l.94-2.06 2.06-.94-2.06-.94L8.5 2.5l-.94 2.06-2.06.94zm10 10l.94 2.06.94-2.06 2.06-.94-2.06-.94-.94-2.06-.94 2.06-2.06.94z\"/><path d=\"M17.41 7.96l-1.37-1.37c-.4-.4-.92-.59-1.43-.59-.52 0-1.04.2-1.43.59L10.3 9.45l-7.72 7.72c-.78.78-.78 2.05 0 2.83L4 21.41c.39.39.9.59 1.41.59.51 0 1.02-.2 1.41-.59l7.78-7.78 2.81-2.81c.8-.78.8-2.07 0-2.86zM5.41 20L4 18.59l7.72-7.72 1.47 1.35L5.41 20z\"/>\n",
              "  </svg>\n",
              "      </button>\n",
              "      \n",
              "  <style>\n",
              "    .colab-df-container {\n",
              "      display:flex;\n",
              "      flex-wrap:wrap;\n",
              "      gap: 12px;\n",
              "    }\n",
              "\n",
              "    .colab-df-convert {\n",
              "      background-color: #E8F0FE;\n",
              "      border: none;\n",
              "      border-radius: 50%;\n",
              "      cursor: pointer;\n",
              "      display: none;\n",
              "      fill: #1967D2;\n",
              "      height: 32px;\n",
              "      padding: 0 0 0 0;\n",
              "      width: 32px;\n",
              "    }\n",
              "\n",
              "    .colab-df-convert:hover {\n",
              "      background-color: #E2EBFA;\n",
              "      box-shadow: 0px 1px 2px rgba(60, 64, 67, 0.3), 0px 1px 3px 1px rgba(60, 64, 67, 0.15);\n",
              "      fill: #174EA6;\n",
              "    }\n",
              "\n",
              "    [theme=dark] .colab-df-convert {\n",
              "      background-color: #3B4455;\n",
              "      fill: #D2E3FC;\n",
              "    }\n",
              "\n",
              "    [theme=dark] .colab-df-convert:hover {\n",
              "      background-color: #434B5C;\n",
              "      box-shadow: 0px 1px 3px 1px rgba(0, 0, 0, 0.15);\n",
              "      filter: drop-shadow(0px 1px 2px rgba(0, 0, 0, 0.3));\n",
              "      fill: #FFFFFF;\n",
              "    }\n",
              "  </style>\n",
              "\n",
              "      <script>\n",
              "        const buttonEl =\n",
              "          document.querySelector('#df-80905582-efc9-4c4e-ac90-32f42e96a785 button.colab-df-convert');\n",
              "        buttonEl.style.display =\n",
              "          google.colab.kernel.accessAllowed ? 'block' : 'none';\n",
              "\n",
              "        async function convertToInteractive(key) {\n",
              "          const element = document.querySelector('#df-80905582-efc9-4c4e-ac90-32f42e96a785');\n",
              "          const dataTable =\n",
              "            await google.colab.kernel.invokeFunction('convertToInteractive',\n",
              "                                                     [key], {});\n",
              "          if (!dataTable) return;\n",
              "\n",
              "          const docLinkHtml = 'Like what you see? Visit the ' +\n",
              "            '<a target=\"_blank\" href=https://colab.research.google.com/notebooks/data_table.ipynb>data table notebook</a>'\n",
              "            + ' to learn more about interactive tables.';\n",
              "          element.innerHTML = '';\n",
              "          dataTable['output_type'] = 'display_data';\n",
              "          await google.colab.output.renderOutput(dataTable, element);\n",
              "          const docLink = document.createElement('div');\n",
              "          docLink.innerHTML = docLinkHtml;\n",
              "          element.appendChild(docLink);\n",
              "        }\n",
              "      </script>\n",
              "    </div>\n",
              "  </div>\n",
              "  "
            ]
          },
          "metadata": {},
          "execution_count": 24
        }
      ]
    },
    {
      "cell_type": "code",
      "source": [
        "x_train,x_test,y_train,y_test=train_test_split(x_encoded,df1_y,random_state=42)"
      ],
      "metadata": {
        "id": "TRNOwYiCz7Jv"
      },
      "execution_count": null,
      "outputs": []
    },
    {
      "cell_type": "code",
      "source": [
        "from sklearn.preprocessing import scale\n",
        "xs_train=scale(x_train)\n",
        "xs_test=scale(x_test)"
      ],
      "metadata": {
        "id": "-aNvnsxGuRJ9"
      },
      "execution_count": null,
      "outputs": []
    },
    {
      "cell_type": "code",
      "source": [
        "xs_train.shape"
      ],
      "metadata": {
        "colab": {
          "base_uri": "https://localhost:8080/"
        },
        "id": "cR-N1k6q9GBo",
        "outputId": "6581cea5-38ce-435d-8cd4-95ec3aabffdc"
      },
      "execution_count": null,
      "outputs": [
        {
          "output_type": "execute_result",
          "data": {
            "text/plain": [
              "(1014, 58)"
            ]
          },
          "metadata": {},
          "execution_count": 65
        }
      ]
    },
    {
      "cell_type": "code",
      "source": [
        "y_train"
      ],
      "metadata": {
        "colab": {
          "base_uri": "https://localhost:8080/"
        },
        "id": "j3xXsPoA2oqH",
        "outputId": "6ebaab2b-cb7c-400c-cd2a-72acccb8e23e"
      },
      "execution_count": null,
      "outputs": [
        {
          "output_type": "execute_result",
          "data": {
            "text/plain": [
              "405     YES\n",
              "874      NO\n",
              "971      NO\n",
              "561     YES\n",
              "608     YES\n",
              "       ... \n",
              "1201    YES\n",
              "1236    YES\n",
              "1403    YES\n",
              "959     YES\n",
              "1232    YES\n",
              "Name: Result, Length: 1014, dtype: category\n",
              "Categories (2, object): ['NO', 'YES']"
            ]
          },
          "metadata": {},
          "execution_count": 34
        }
      ]
    },
    {
      "cell_type": "code",
      "source": [
        "from sklearn import preprocessing"
      ],
      "metadata": {
        "id": "lm1YXnCW3juQ"
      },
      "execution_count": null,
      "outputs": []
    },
    {
      "cell_type": "code",
      "source": [
        "label_encoder = preprocessing.LabelEncoder()\n",
        " \n",
        "# Encode labels in column 'species'.\n",
        "y_train= label_encoder.fit_transform(y_train)"
      ],
      "metadata": {
        "id": "r-SzXQP03gzg"
      },
      "execution_count": null,
      "outputs": []
    },
    {
      "cell_type": "code",
      "source": [
        "import numpy as np\n",
        "\n",
        "class SV_M:\n",
        "    def __init__(self, lr, lambda_param, n_iters):\n",
        "        self.lr = lr\n",
        "        self.lambda_param = lambda_param\n",
        "        self.n_iters = n_iters\n",
        "        self.w = None\n",
        "        self.b = None\n",
        "\n",
        "    def _init_weights_bias(self, X):\n",
        "        n_features = X.shape[1]\n",
        "        self.w = np.random.rand(n_features)\n",
        "        self.b = 0\n",
        "\n",
        "    def _get_cls_map(self, y):\n",
        "        return np.where(y <= 0, -1, 1)\n",
        "\n",
        "    def _satisfy_constraint(self, x, idx):\n",
        "        linear_model = np.dot(x, self.w) + self.b \n",
        "        return self.cls_map[idx] * linear_model >= 1\n",
        "    \n",
        "    def _get_gradients(self, constrain, x, idx):\n",
        "        if constrain:\n",
        "            dw = self.lambda_param * self.w\n",
        "            db = 0\n",
        "            return dw, db\n",
        "        \n",
        "        dw = self.lambda_param * self.w - np.dot(self.cls_map[idx], x)\n",
        "        db = - self.cls_map[idx]\n",
        "        return dw, db\n",
        "    \n",
        "    def _update_weights_bias(self, dw, db):\n",
        "        self.w -= self.lr * dw\n",
        "        self.b -= self.lr * db\n",
        "    \n",
        "    def fit(self, X, y):\n",
        "        self._init_weights_bias(X)\n",
        "        self.cls_map = self._get_cls_map(y)\n",
        "\n",
        "        for _ in range(self.n_iters):\n",
        "            for idx, x in enumerate(X):\n",
        "                constrain = self._satisfy_constraint(x, idx)\n",
        "                dw, db = self._get_gradients(constrain, x, idx)\n",
        "                self._update_weights_bias(dw, db)\n",
        "    \n",
        "    def predict(self, X):\n",
        "        estimate = np.dot(X, self.w) + self.b\n",
        "        prediction = np.sign(estimate)\n",
        "        return np.where(prediction == -1, 0, 1)"
      ],
      "metadata": {
        "id": "Aufv1P3G7OiW"
      },
      "execution_count": null,
      "outputs": []
    },
    {
      "cell_type": "code",
      "source": [
        "clf_svm=SV_M(1e-3,1e-2,1000)"
      ],
      "metadata": {
        "id": "X3TFleiy1QtN"
      },
      "execution_count": null,
      "outputs": []
    },
    {
      "cell_type": "code",
      "source": [
        "clf_svm.fit(xs_train,y_train)"
      ],
      "metadata": {
        "id": "HB_FzfDT1oWf"
      },
      "execution_count": null,
      "outputs": []
    },
    {
      "cell_type": "code",
      "source": [
        "y_test= label_encoder.fit_transform(y_test)"
      ],
      "metadata": {
        "id": "utFv-ZKB_CeG"
      },
      "execution_count": null,
      "outputs": []
    },
    {
      "cell_type": "code",
      "source": [
        "y_preds=clf_svm.predict(xs_test)"
      ],
      "metadata": {
        "id": "q7fjHL2D-o36"
      },
      "execution_count": null,
      "outputs": []
    },
    {
      "cell_type": "code",
      "source": [
        "from sklearn.metrics import confusion_matrix\n",
        "from sklearn.metrics import plot_confusion_matrix"
      ],
      "metadata": {
        "id": "6nLGJCS61QFa"
      },
      "execution_count": null,
      "outputs": []
    },
    {
      "cell_type": "code",
      "source": [
        "matrix = confusion_matrix(y_test,y_preds, labels=[1,0])"
      ],
      "metadata": {
        "id": "s15yJJhg-fsX"
      },
      "execution_count": null,
      "outputs": []
    },
    {
      "cell_type": "code",
      "source": [
        "matrix"
      ],
      "metadata": {
        "colab": {
          "base_uri": "https://localhost:8080/"
        },
        "id": "wXsiiIA9_VR9",
        "outputId": "a7f826ad-9d05-4dbc-fe75-44e4150310df"
      },
      "execution_count": null,
      "outputs": [
        {
          "output_type": "execute_result",
          "data": {
            "text/plain": [
              "array([[259,   3],\n",
              "       [ 62,  14]])"
            ]
          },
          "metadata": {},
          "execution_count": 92
        }
      ]
    },
    {
      "cell_type": "code",
      "source": [
        "from sklearn.metrics import accuracy_score\n",
        "accuracy_score(y_test, y_preds)"
      ],
      "metadata": {
        "colab": {
          "base_uri": "https://localhost:8080/"
        },
        "id": "nXyX1G0pLSEE",
        "outputId": "86514fbb-470a-4a09-8820-e6e2ef7543bf"
      },
      "execution_count": null,
      "outputs": [
        {
          "output_type": "execute_result",
          "data": {
            "text/plain": [
              "0.8076923076923077"
            ]
          },
          "metadata": {},
          "execution_count": 80
        }
      ]
    },
    {
      "cell_type": "markdown",
      "source": [
        "**using library**\n",
        "\n"
      ],
      "metadata": {
        "id": "oz0x3iSp1I0_"
      }
    },
    {
      "cell_type": "code",
      "source": [
        "from sklearn.svm import SVC\n",
        "clf_svm=SVC(random_state=42)\n",
        "clf_svm.fit(xs_train,y_train)\n"
      ],
      "metadata": {
        "colab": {
          "base_uri": "https://localhost:8080/"
        },
        "id": "CzkgfY-gwQGh",
        "outputId": "7bdaa671-4c72-4677-994f-91ac27df2edb"
      },
      "execution_count": null,
      "outputs": [
        {
          "output_type": "execute_result",
          "data": {
            "text/plain": [
              "SVC(random_state=42)"
            ]
          },
          "metadata": {},
          "execution_count": 131
        }
      ]
    },
    {
      "cell_type": "code",
      "source": [
        "from sklearn.model_selection import GridSearchCV"
      ],
      "metadata": {
        "id": "4uXBTzqcGc9T"
      },
      "execution_count": null,
      "outputs": []
    },
    {
      "cell_type": "code",
      "source": [
        "param_grid=[{'C':[0.5,1,10,100],'gamma':['scale',1,0.1,0.01,0.001,0.0001],'kernel':['rbf']},]\n",
        "optimal_params=GridSearchCV(SVC(),param_grid,cv=5,scoring='accuracy',verbose=0)\n",
        "optimal_params.fit(xs_train,y_train)\n",
        "print(optimal_params.best_params_)\n"
      ],
      "metadata": {
        "colab": {
          "base_uri": "https://localhost:8080/"
        },
        "id": "m2Xg4qIj2Mfv",
        "outputId": "40e5586f-f438-4a23-a493-5a7dc28fa156"
      },
      "execution_count": null,
      "outputs": [
        {
          "output_type": "stream",
          "name": "stdout",
          "text": [
            "{'C': 100, 'gamma': 0.001, 'kernel': 'rbf'}\n"
          ]
        }
      ]
    },
    {
      "cell_type": "code",
      "source": [
        "clf_svm=SVC(random_state=42,C=100,gamma=0.001,kernel='rbf')\n",
        "clf_svm.fit(xs_test,y_test)"
      ],
      "metadata": {
        "colab": {
          "base_uri": "https://localhost:8080/"
        },
        "id": "6Wc-cQj_GuNg",
        "outputId": "eee0da92-826c-4ad0-d7a1-c6c8b22b3035"
      },
      "execution_count": null,
      "outputs": [
        {
          "output_type": "execute_result",
          "data": {
            "text/plain": [
              "SVC(C=100, gamma=0.001, random_state=42)"
            ]
          },
          "metadata": {},
          "execution_count": 126
        }
      ]
    },
    {
      "cell_type": "code",
      "source": [
        "y1_pred=clf_svm.predict(xs_test)"
      ],
      "metadata": {
        "id": "ZpE0DL6vLVG0"
      },
      "execution_count": null,
      "outputs": []
    },
    {
      "cell_type": "code",
      "source": [
        "y_pred=clf_svm.predict(xs_test)"
      ],
      "metadata": {
        "id": "-_vKSoq9K6Iy"
      },
      "execution_count": null,
      "outputs": []
    },
    {
      "cell_type": "code",
      "source": [
        "plot_confusion_matrix(clf_svm,xs_test,y_test,values_format='d',display_labels=[\"No\",\"yes\"])"
      ],
      "metadata": {
        "colab": {
          "base_uri": "https://localhost:8080/",
          "height": 351
        },
        "id": "9kuf8kPvzCLA",
        "outputId": "1b6acb61-200b-4b5c-ce9d-8803962e88b7"
      },
      "execution_count": null,
      "outputs": [
        {
          "output_type": "stream",
          "name": "stderr",
          "text": [
            "/usr/local/lib/python3.7/dist-packages/sklearn/utils/deprecation.py:87: FutureWarning: Function plot_confusion_matrix is deprecated; Function `plot_confusion_matrix` is deprecated in 1.0 and will be removed in 1.2. Use one of the class methods: ConfusionMatrixDisplay.from_predictions or ConfusionMatrixDisplay.from_estimator.\n",
            "  warnings.warn(msg, category=FutureWarning)\n"
          ]
        },
        {
          "output_type": "execute_result",
          "data": {
            "text/plain": [
              "<sklearn.metrics._plot.confusion_matrix.ConfusionMatrixDisplay at 0x7fbc74163910>"
            ]
          },
          "metadata": {},
          "execution_count": 127
        },
        {
          "output_type": "display_data",
          "data": {
            "text/plain": [
              "<Figure size 432x288 with 2 Axes>"
            ],
            "image/png": "[encoded data removed]"
          },
          "metadata": {
            "needs_background": "light"
          }
        }
      ]
    },
    {
      "cell_type": "code",
      "source": [
        "from sklearn.metrics import accuracy_score\n",
        "accuracy_score(y_test, y_pred)"
      ],
      "metadata": {
        "colab": {
          "base_uri": "https://localhost:8080/"
        },
        "id": "mvJbjO12JrRm",
        "outputId": "d17831e0-b74d-4723-f2dd-2f4589b93bc2"
      },
      "execution_count": null,
      "outputs": [
        {
          "output_type": "execute_result",
          "data": {
            "text/plain": [
              "0.8431952662721893"
            ]
          },
          "metadata": {},
          "execution_count": 130
        }
      ]
    }
  ]
}
